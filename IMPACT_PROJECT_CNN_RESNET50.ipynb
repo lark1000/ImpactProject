{
 "cells": [
  {
   "cell_type": "code",
   "execution_count": 44,
   "metadata": {},
   "outputs": [],
   "source": [
    "import os\n",
    "import shutil\n",
    "import random\n",
    "import numpy as np\n",
    "import tensorflow as tf\n",
    "from sklearn.model_selection import train_test_split\n",
    "from tensorflow.keras.applications.resnet50 import ResNet50\n",
    "from tensorflow.keras.preprocessing.image import ImageDataGenerator\n",
    "from tensorflow.keras.layers import Dense, Flatten\n",
    "from tensorflow.keras.models import Model\n",
    "from sklearn.metrics import classification_report\n",
    "\n"
   ]
  },
  {
   "cell_type": "markdown",
   "metadata": {},
   "source": [
    "## ResNet50 ##"
   ]
  },
  {
   "cell_type": "code",
   "execution_count": 23,
   "metadata": {},
   "outputs": [
    {
     "name": "stdout",
     "output_type": "stream",
     "text": [
      "Found 51 images belonging to 2 classes.\n",
      "Found 49 images belonging to 2 classes.\n"
     ]
    }
   ],
   "source": [
    "#Import the datset and split into train and test\n",
    "train_dir = '/Users/kamillaraki/Downloads/SAAMY/Train'\n",
    "test_dir = '/Users/kamillaraki/Downloads/SAAMY/Test'\n",
    "\n",
    "train_datagen = ImageDataGenerator(rescale=1./255)\n",
    "test_datagen = ImageDataGenerator(rescale=1./255)\n",
    "\n",
    "train_set = train_datagen.flow_from_directory(train_dir,\n",
    "                                              target_size=(1792, 1792),\n",
    "                                              batch_size=16,\n",
    "                                              class_mode='binary')\n",
    "\n",
    "test_set = test_datagen.flow_from_directory(test_dir,\n",
    "                                            target_size=(1792, 1792),\n",
    "                                            batch_size=16,\n",
    "                                            class_mode='binary')\n"
   ]
  },
  {
   "cell_type": "code",
   "execution_count": 24,
   "metadata": {},
   "outputs": [],
   "source": [
    "#Import ResNet50\n",
    "resnet = ResNet50(input_shape=(1792, 1792, 3),\n",
    "                  include_top=False,\n",
    "                  weights='imagenet')"
   ]
  },
  {
   "cell_type": "code",
   "execution_count": 25,
   "metadata": {},
   "outputs": [],
   "source": [
    "# Freeze the layers\n",
    "for layer in resnet.layers:\n",
    "    layer.trainable = False"
   ]
  },
  {
   "cell_type": "code",
   "execution_count": 26,
   "metadata": {},
   "outputs": [],
   "source": [
    "# Tune the model\n",
    "x = Flatten()(resnet.output)\n",
    "x = Dense(128, activation='relu')(x)\n",
    "predictions = Dense(1, activation='sigmoid')(x)\n",
    "\n",
    "model = Model(inputs=resnet.input, outputs=predictions)"
   ]
  },
  {
   "cell_type": "code",
   "execution_count": 27,
   "metadata": {},
   "outputs": [],
   "source": [
    "# Compile the model\n",
    "model.compile(optimizer='adam',\n",
    "              loss='binary_crossentropy',\n",
    "              metrics=['accuracy'])"
   ]
  },
  {
   "cell_type": "code",
   "execution_count": 29,
   "metadata": {
    "scrolled": true
   },
   "outputs": [
    {
     "name": "stdout",
     "output_type": "stream",
     "text": [
      "Epoch 1/10\n",
      "4/4 [==============================] - 728s 196s/step - loss: 3194.8762 - accuracy: 0.4706 - val_loss: 2394.6226 - val_accuracy: 0.4694\n",
      "Epoch 2/10\n",
      "4/4 [==============================] - 725s 198s/step - loss: 1993.0850 - accuracy: 0.4902 - val_loss: 891.5526 - val_accuracy: 0.4694\n",
      "Epoch 3/10\n",
      "4/4 [==============================] - 674s 177s/step - loss: 466.1373 - accuracy: 0.5490 - val_loss: 866.8845 - val_accuracy: 0.5306\n",
      "Epoch 4/10\n",
      "4/4 [==============================] - 633s 173s/step - loss: 766.4031 - accuracy: 0.5098 - val_loss: 28.7564 - val_accuracy: 0.8163\n",
      "Epoch 5/10\n",
      "4/4 [==============================] - 675s 186s/step - loss: 229.4069 - accuracy: 0.6471 - val_loss: 152.3091 - val_accuracy: 0.6327\n",
      "Epoch 6/10\n",
      "4/4 [==============================] - 755s 207s/step - loss: 97.5176 - accuracy: 0.7059 - val_loss: 348.8389 - val_accuracy: 0.5306\n",
      "Epoch 7/10\n",
      "4/4 [==============================] - 768s 206s/step - loss: 269.9521 - accuracy: 0.5294 - val_loss: 12.5495 - val_accuracy: 0.9388\n",
      "Epoch 8/10\n",
      "4/4 [==============================] - 747s 225s/step - loss: 94.4518 - accuracy: 0.7647 - val_loss: 112.4487 - val_accuracy: 0.6939\n",
      "Epoch 9/10\n",
      "4/4 [==============================] - 759s 204s/step - loss: 61.8177 - accuracy: 0.8039 - val_loss: 0.0000e+00 - val_accuracy: 1.0000\n",
      "Epoch 10/10\n",
      "4/4 [==============================] - 822s 251s/step - loss: 16.5299 - accuracy: 0.8431 - val_loss: 14.6297 - val_accuracy: 0.8571\n"
     ]
    },
    {
     "data": {
      "text/plain": [
       "<keras.callbacks.History at 0x7fa54374f9a0>"
      ]
     },
     "execution_count": 29,
     "metadata": {},
     "output_type": "execute_result"
    }
   ],
   "source": [
    "# Fit The Model\n",
    "model.fit(train_set, epochs=10, validation_data=test_set)"
   ]
  },
  {
   "cell_type": "code",
   "execution_count": 30,
   "metadata": {},
   "outputs": [],
   "source": [
    "# Save the model\n",
    "model.save('SAMY_ResNet.h5')"
   ]
  },
  {
   "cell_type": "markdown",
   "metadata": {},
   "source": [
    "## MODEL EVALUATION ##"
   ]
  },
  {
   "cell_type": "code",
   "execution_count": 33,
   "metadata": {
    "scrolled": true
   },
   "outputs": [
    {
     "name": "stdout",
     "output_type": "stream",
     "text": [
      "4/4 [==============================] - 254s 55s/step - loss: 14.6298 - accuracy: 0.8571\n"
     ]
    }
   ],
   "source": [
    "# Evaluate the model\n",
    "y_pred_metrics = model.evaluate(test_set)"
   ]
  }
 ],
 "metadata": {
  "kernelspec": {
   "display_name": "Python 3",
   "language": "python",
   "name": "python3"
  },
  "language_info": {
   "codemirror_mode": {
    "name": "ipython",
    "version": 3
   },
   "file_extension": ".py",
   "mimetype": "text/x-python",
   "name": "python",
   "nbconvert_exporter": "python",
   "pygments_lexer": "ipython3",
   "version": "3.8.5"
  }
 },
 "nbformat": 4,
 "nbformat_minor": 4
}
